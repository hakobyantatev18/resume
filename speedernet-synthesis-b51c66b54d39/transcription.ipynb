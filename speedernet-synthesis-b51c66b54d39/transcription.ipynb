{
 "cells": [
  {
   "cell_type": "code",
   "execution_count": 2,
   "metadata": {},
   "outputs": [],
   "source": [
    "# import assemblyai as aai\n",
    "\n",
    "# aai.settings.api_key = \"b002aa5439e74d0db7edb11dceee5250\""
   ]
  },
  {
   "cell_type": "code",
   "execution_count": 3,
   "metadata": {},
   "outputs": [],
   "source": [
    "# transcriber = aai.Transcriber()\n",
    "\n",
    "# transcript = transcriber.transcribe(\"./sound/audio.mp3\")\n",
    "\n",
    "# print(transcript.text)"
   ]
  },
  {
   "cell_type": "code",
   "execution_count": 4,
   "metadata": {},
   "outputs": [],
   "source": [
    "# #breaks down the script sentence by sentence\n",
    "# sentences = transcript.get_sentences()\n",
    "\n",
    "# for sentence in sentences:\n",
    "#     print(sentence.text)"
   ]
  },
  {
   "cell_type": "code",
   "execution_count": 5,
   "metadata": {},
   "outputs": [],
   "source": [
    "# #breaks down the script paragraph by paragraph\n",
    "\n",
    "# paragraphs = transcript.get_paragraphs()\n",
    "# for paragraph in paragraphs:\n",
    "#     print(paragraph.text)"
   ]
  },
  {
   "cell_type": "code",
   "execution_count": 6,
   "metadata": {},
   "outputs": [],
   "source": [
    "# #summerizes the script\n",
    "\n",
    "# config = aai.TranscriptionConfig(summarization=True,\n",
    "#                                  summary_model = aai.SummarizationModel.informative,\n",
    "#                                  summary_type = aai.SummarizationType.bullets)\n",
    "\n",
    "# transcript = transcriber.transcribe(\"./sound/audio.mp3\",config=config)\n",
    "# print(transcript.summary)"
   ]
  },
  {
   "cell_type": "code",
   "execution_count": 7,
   "metadata": {},
   "outputs": [
    {
     "name": "stdout",
     "output_type": "stream",
     "text": [
      "La semaine dernière, j'ai emmené mon fils pour la première fois voir un cirque. Alors moi, quand j'étais enfant, pour moi, le cirque, ça représentait les animaux, les dromadaires, les éléphants, les lions. Voilà, maintenant, avec les nouvelles normes de protection des animaux, En fait, dans les cirques, on ne peut plus voir d'animaux qui sont comme ça, qui vivent avec la troupe. Et donc, le cirque que nous avons été voir, il s'intitulait le cirque 100% humain. J'avais un petit peu hésité à emmener mon fils en me disant que ce serait peut-être moins intéressant pour lui. Et finalement, il a adoré. Donc, les troupes de cirque ont dû se renouveler. Et effectivement, dans ce cirque qui s'appelle le cirque mondial, c'était à Paris, c'était sur la pelouse de Ruilly. Donc c'est un grand, grand chapiteau qui pouvait accueillir entre 2500 et 3000 personnes. Nous y avons été début janvier, donc par contre il ne faisait pas très chaud parce que bien sûr le chapiteau est à l'extérieur, donc il faut penser à bien se couvrir. Et c'était un cirque très intéressant qui durait deux heures, un peu plus de deux heures même. Il y avait en fait d'abord une première heure de spectacle, puis un entracte, et enfin une deuxième heure avec des nouveaux numéros. Dans ce grand chapiteau, il y avait différents artistes qui, pour la plupart, étaient assez jeunes. Il y avait des clowns, ça c'est vraiment l'incontournable du cirque. Ça, ça n'a pas changé. Il y avait beaucoup de funambules, sur des fils de fer, mais également des choses un peu impressionnantes avec des trapézistes qui faisaient des vols, bien sûr, tout en haut du chapiteau. Il y avait également des acrobates sur ce qu'on appelle la roue infernale. C'est deux roues qui tournent et ils font des acrobaties dessus. Il y avait des jongleurs avec différents objets, des artistes aériens et puis voilà pas mal de surprises, notamment le dernier numéro qui était exceptionnel avec des funambules sur une moto qui faisait des acrobaties sur un fil de fer, ce qui était quand même très très impressionnant. Donc nous avons tous les deux beaucoup aimé cette séance. Mon fils était très content de découvrir le cirque et moi de découvrir peut-être un cirque un peu différent de celui que je connaissais enfant. Il y avait tous les âges dans le chapiteau et là nous avons eu la chance nous d'avoir des invitations donc nous ne payons pas les places mais sinon pour avoir une idée un petit peu du tarif, normalement une place de cirque c'est à peu près dans les 15 euros et si on veut vraiment être au plus près de la piste ça peut aller entre 20 et 25 euros la place. Voilà, en tout cas, c'était une belle expérience et il ne faut pas attendre pour aller voir le cirque, qui effectivement est un peu différent, mais c'est toujours très intéressant et impressionnant. C'est un bon moment à passer en famille.\n"
     ]
    }
   ],
   "source": [
    "import assemblyai as aai\n",
    "\n",
    "aai.settings.api_key = \"b002aa5439e74d0db7edb11dceee5250\"\n",
    "config = aai.TranscriptionConfig(language_code=\"fr\")  #this line here is for french audio files\n",
    "transcriber = aai.Transcriber(config=config)\n",
    "\n",
    "transcript = transcriber.transcribe(\"./sound/le_cirque.mp3\")\n",
    "\n",
    "\n",
    "# transcriber = aai.Transcriber(config=config)\n",
    "\n",
    "text_summarize = transcript.text\n",
    "print(transcript.text)"
   ]
  },
  {
   "cell_type": "code",
   "execution_count": 8,
   "metadata": {},
   "outputs": [
    {
     "name": "stdout",
     "output_type": "stream",
     "text": [
      "La semaine dernière, j'ai emmené mon fils pour la première fois voir un cirque. Alors moi, quand j'étais enfant, pour moi, le cirque, ça représentait les animaux, les dromadaires, les éléphants, les lions. Voilà, maintenant, avec les nouvelles normes de protection des animaux, En fait, dans les cirques, on ne peut plus voir d'animaux qui sont comme ça, qui vivent avec la troupe. Et donc, le cirque que nous avons été voir, il s'intitulait le cirque 100% humain. J'avais un petit peu hésité à emmener mon fils en me disant que ce serait peut-être moins intéressant pour lui.\n",
      "Et finalement, il a adoré. Donc, les troupes de cirque ont dû se renouveler. Et effectivement, dans ce cirque qui s'appelle le cirque mondial, c'était à Paris, c'était sur la pelouse de Ruilly. Donc c'est un grand, grand chapiteau qui pouvait accueillir entre 2500 et 3000 personnes. Nous y avons été début janvier, donc par contre il ne faisait pas très chaud parce que bien sûr le chapiteau est à l'extérieur, donc il faut penser à bien se couvrir.\n",
      "Et c'était un cirque très intéressant qui durait deux heures, un peu plus de deux heures même. Il y avait en fait d'abord une première heure de spectacle, puis un entracte, et enfin une deuxième heure avec des nouveaux numéros. Dans ce grand chapiteau, il y avait différents artistes qui, pour la plupart, étaient assez jeunes. Il y avait des clowns, ça c'est vraiment l'incontournable du cirque. Ça, ça n'a pas changé.\n",
      "Il y avait beaucoup de funambules, sur des fils de fer, mais également des choses un peu impressionnantes avec des trapézistes qui faisaient des vols, bien sûr, tout en haut du chapiteau. Il y avait également des acrobates sur ce qu'on appelle la roue infernale. C'est deux roues qui tournent et ils font des acrobaties dessus. Il y avait des jongleurs avec différents objets, des artistes aériens et puis voilà pas mal de surprises, notamment le dernier numéro qui était exceptionnel avec des funambules sur une moto qui faisait des acrobaties sur un fil de fer, ce qui était quand même très très impressionnant. Donc nous avons tous les deux beaucoup aimé cette séance.\n",
      "Mon fils était très content de découvrir le cirque et moi de découvrir peut-être un cirque un peu différent de celui que je connaissais enfant. Il y avait tous les âges dans le chapiteau et là nous avons eu la chance nous d'avoir des invitations donc nous ne payons pas les places mais sinon pour avoir une idée un petit peu du tarif, normalement une place de cirque c'est à peu près dans les 15 euros et si on veut vraiment être au plus près de la piste ça peut aller entre 20 et 25 euros la place. Voilà, en tout cas, c'était une belle expérience et il ne faut pas attendre pour aller voir le cirque, qui effectivement est un peu différent, mais c'est toujours très intéressant et impressionnant. C'est un bon moment à passer en famille.\n"
     ]
    }
   ],
   "source": [
    "paragraphs = transcript.get_paragraphs()\n",
    "for paragraph in paragraphs:\n",
    "    print(paragraph.text)"
   ]
  },
  {
   "cell_type": "code",
   "execution_count": 9,
   "metadata": {},
   "outputs": [
    {
     "name": "stdout",
     "output_type": "stream",
     "text": [
      "La semaine dernière, j'ai emmené mon fils pour la première fois voir un cirque.\n",
      "Alors moi, quand j'étais enfant, pour moi, le cirque, ça représentait les animaux, les dromadaires, les éléphants, les lions.\n",
      "Voilà, maintenant, avec les nouvelles normes de protection des animaux, En fait, dans les cirques, on ne peut plus voir d'animaux qui sont comme ça, qui vivent avec la troupe.\n",
      "Et donc, le cirque que nous avons été voir, il s'intitulait le cirque 100% humain.\n",
      "J'avais un petit peu hésité à emmener mon fils en me disant que ce serait peut-être moins intéressant pour lui.\n",
      "Et finalement, il a adoré.\n",
      "Donc, les troupes de cirque ont dû se renouveler.\n",
      "Et effectivement, dans ce cirque qui s'appelle le cirque mondial, c'était à Paris, c'était sur la pelouse de Ruilly.\n",
      "Donc c'est un grand, grand chapiteau qui pouvait accueillir entre 2500 et 3000 personnes.\n",
      "Nous y avons été début janvier, donc par contre il ne faisait pas très chaud parce que bien sûr le chapiteau est à l'extérieur, donc il faut penser à bien se couvrir.\n",
      "Et c'était un cirque très intéressant qui durait deux heures, un peu plus de deux heures même.\n",
      "Il y avait en fait d'abord une première heure de spectacle, puis un entracte, et enfin une deuxième heure avec des nouveaux numéros.\n",
      "Dans ce grand chapiteau, il y avait différents artistes qui, pour la plupart, étaient assez jeunes.\n",
      "Il y avait des clowns, ça c'est vraiment l'incontournable du cirque.\n",
      "Ça, ça n'a pas changé.\n",
      "Il y avait beaucoup de funambules, sur des fils de fer, mais également des choses un peu impressionnantes avec des trapézistes qui faisaient des vols, bien sûr, tout en haut du chapiteau.\n",
      "Il y avait également des acrobates sur ce qu'on appelle la roue infernale.\n",
      "C'est deux roues qui tournent et ils font des acrobaties dessus.\n",
      "Il y avait des jongleurs avec différents objets, des artistes aériens et puis voilà pas mal de surprises, notamment le dernier numéro qui était exceptionnel avec des funambules sur une moto qui faisait des acrobaties sur un fil de fer, ce qui était quand même très très impressionnant.\n",
      "Donc nous avons tous les deux beaucoup aimé cette séance.\n",
      "Mon fils était très content de découvrir le cirque et moi de découvrir peut-être un cirque un peu différent de celui que je connaissais enfant.\n",
      "Il y avait tous les âges dans le chapiteau et là nous avons eu la chance nous d'avoir des invitations donc nous ne payons pas les places mais sinon pour avoir une idée un petit peu du tarif, normalement une place de cirque c'est à peu près dans les 15 euros et si on veut vraiment être au plus près de la piste ça peut aller entre 20 et 25 euros la place.\n",
      "Voilà, en tout cas, c'était une belle expérience et il ne faut pas attendre pour aller voir le cirque, qui effectivement est un peu différent, mais c'est toujours très intéressant et impressionnant.\n",
      "C'est un bon moment à passer en famille.\n"
     ]
    }
   ],
   "source": [
    "#breaks down the script sentence by sentence\n",
    "sentences = transcript.get_sentences()\n",
    "\n",
    "for sentence in sentences:\n",
    "    print(sentence.text)"
   ]
  },
  {
   "cell_type": "code",
   "execution_count": 10,
   "metadata": {},
   "outputs": [],
   "source": [
    "#summerizes the script\n",
    "\n",
    "# config = aai.TranscriptionConfig(language_code='fr',\n",
    "#                                  summarization=True,\n",
    "#                                  summary_model = aai.SummarizationModel.informative,\n",
    "#                                  summary_type = aai.SummarizationType.bullets\n",
    "#                                 )\n",
    "\n",
    "# transcript = transcriber.transcribe(\"./sound/le_cirque.mp3\",config=config)\n",
    "# print(transcript.summary)"
   ]
  },
  {
   "cell_type": "code",
   "execution_count": 11,
   "metadata": {},
   "outputs": [
    {
     "name": "stderr",
     "output_type": "stream",
     "text": [
      "[nltk_data] Downloading package punkt to\n",
      "[nltk_data]     C:\\Users\\thakobyan\\AppData\\Roaming\\nltk_data...\n",
      "[nltk_data]   Package punkt is already up-to-date!\n"
     ]
    },
    {
     "data": {
      "text/plain": [
       "True"
      ]
     },
     "execution_count": 11,
     "metadata": {},
     "output_type": "execute_result"
    }
   ],
   "source": [
    "#summarizing the text\n",
    "\n",
    "import nltk\n",
    "nltk.download('punkt')"
   ]
  },
  {
   "cell_type": "code",
   "execution_count": 12,
   "metadata": {},
   "outputs": [
    {
     "name": "stdout",
     "output_type": "stream",
     "text": [
      "\n",
      "Summary:\n",
      "J'avais un petit peu hésité à emmener mon fils en me disant que ce serait peut-être moins intéressant pour lui.\n",
      "Dans ce grand chapiteau, il y avait différents artistes qui, pour la plupart, étaient assez jeunes.\n",
      "Il y avait tous les âges dans le chapiteau et là nous avons eu la chance nous d'avoir des invitations donc nous ne payons pas les places mais sinon pour avoir une idée un petit peu du tarif, normalement une place de cirque c'est à peu près dans les 15 euros et si on veut vraiment être au plus près de la piste ça peut aller entre 20 et 25 euros la place.\n"
     ]
    }
   ],
   "source": [
    "from sumy.parsers.plaintext import PlaintextParser\n",
    "from sumy.nlp.tokenizers import Tokenizer\n",
    "from sumy.summarizers.lsa import LsaSummarizer\n",
    "\n",
    "input_text = text_summarize\n",
    "\n",
    "parser = PlaintextParser.from_string(input_text, Tokenizer(\"french\"))\n",
    "summarizer = LsaSummarizer()\n",
    "summary = summarizer(parser.document, sentences_count=3)\n",
    "\n",
    "print(\"\\nSummary:\")\n",
    "for sentence in summary:\n",
    "    print(sentence)"
   ]
  },
  {
   "cell_type": "code",
   "execution_count": 13,
   "metadata": {},
   "outputs": [
    {
     "name": "stdout",
     "output_type": "stream",
     "text": [
      "- Nimfis on disrupted. Don't play troop the Sierra. effective mod on presenter. Ma'am, we have spectacular don Supito. Donko yevidifola preparatory don Shapito. May Sinoprovarin plus the circumstances van sankurola plus experience.\n"
     ]
    }
   ],
   "source": [
    "audio_url = \"./sound/le_cirque.mp3\"\n",
    "\n",
    "config = aai.TranscriptionConfig(\n",
    "  summarization=True,\n",
    "  summary_model=aai.SummarizationModel.informative,\n",
    "  summary_type=aai.SummarizationType.bullets_verbose\n",
    ")\n",
    "\n",
    "transcript = aai.Transcriber().transcribe(audio_url, config)\n",
    "# tmp = transcript.summary\n",
    "\n",
    "# for paragraph in tmp:\n",
    "#   print(paragraph)\n",
    "\n",
    "print(transcript.summary)\n"
   ]
  },
  {
   "cell_type": "code",
   "execution_count": 14,
   "metadata": {},
   "outputs": [
    {
     "name": "stdout",
     "output_type": "stream",
     "text": [
      "Highlight: monotonous voices, Count: 1, Rank: 0.1, Timestamps: [Timestamp(start=222138, end=223282)]\n",
      "Highlight: Father Ted boring voice, Count: 1, Rank: 0.09, Timestamps: [Timestamp(start=66766, end=68918)]\n",
      "Highlight: Most people, Count: 2, Rank: 0.06, Timestamps: [Timestamp(start=175394, end=176122), Timestamp(start=202992, end=203760)]\n",
      "Highlight: keyword emphasis, Count: 5, Rank: 0.06, Timestamps: [Timestamp(start=243190, end=244874), Timestamp(start=315764, end=317036), Timestamp(start=333046, end=334222), Timestamp(start=342254, end=343158), Timestamp(start=367432, end=368448)]\n",
      "Highlight: public speaking, Count: 5, Rank: 0.06, Timestamps: [Timestamp(start=22494, end=23206), Timestamp(start=121564, end=122324), Timestamp(start=157762, end=158610), Timestamp(start=214994, end=216014), Timestamp(start=219410, end=220402)]\n",
      "Highlight: Dot speechcamp dot ie, Count: 1, Rank: 0.06, Timestamps: [Timestamp(start=426584, end=428304)]\n",
      "Highlight: so called monotone voices, Count: 1, Rank: 0.06, Timestamps: [Timestamp(start=106748, end=108796)]\n",
      "Highlight: Father Ted, Count: 3, Rank: 0.06, Timestamps: [Timestamp(start=48106, end=48946), Timestamp(start=66766, end=67758), Timestamp(start=373952, end=374704)]\n",
      "Highlight: different words, Count: 2, Rank: 0.05, Timestamps: [Timestamp(start=258310, end=259354), Timestamp(start=277874, end=278618)]\n",
      "Highlight: boring voice, Count: 3, Rank: 0.05, Timestamps: [Timestamp(start=67846, end=68918), Timestamp(start=76830, end=77828), Timestamp(start=99128, end=100040)]\n",
      "Highlight: techniques, Count: 1, Rank: 0.05, Timestamps: [Timestamp(start=28770, end=29362)]\n",
      "Highlight: willfully boring voices, Count: 1, Rank: 0.05, Timestamps: [Timestamp(start=89744, end=91488)]\n",
      "Highlight: monotone voice, Count: 2, Rank: 0.05, Timestamps: [Timestamp(start=144208, end=145136), Timestamp(start=177890, end=178826)]\n",
      "Highlight: many wonderful ways, Count: 1, Rank: 0.05, Timestamps: [Timestamp(start=217098, end=218050)]\n",
      "Highlight: many reasons, Count: 1, Rank: 0.05, Timestamps: [Timestamp(start=153544, end=154240)]\n"
     ]
    }
   ],
   "source": [
    "audio_url = \"./sound/audio.mp3\"\n",
    "\n",
    "config = aai.TranscriptionConfig(auto_highlights=True)\n",
    "\n",
    "transcript = aai.Transcriber().transcribe(audio_url, config)\n",
    "\n",
    "for result in transcript.auto_highlights.results:\n",
    "    print(f\"Highlight: {result.text}, Count: {result.count}, Rank: {result.rank}, Timestamps: {result.timestamps}\")"
   ]
  },
  {
   "cell_type": "code",
   "execution_count": 24,
   "metadata": {},
   "outputs": [],
   "source": [
    "def convertMillis(millis):\n",
    "     seconds=int(millis/1000)%60\n",
    "     minutes=int(millis/(1000*60))%60\n",
    "     hours=int(millis/(1000*60*60))%24\n",
    "     return seconds, minutes, hours"
   ]
  },
  {
   "cell_type": "code",
   "execution_count": 30,
   "metadata": {},
   "outputs": [
    {
     "name": "stdout",
     "output_type": "stream",
     "text": [
      "Speaker A: Welcome to the Speechcamp audio download series. Timestamps: 00:00:10 - 00:00:13\n",
      "Speaker B: I'm Eddie Ohanlon, your narrator. Timestamps: 00:00:14 - 00:00:16\n",
      "Speaker A: These audio downloads are designed to help you improve your public speaking skills. Each download is packed with tips, tools and techniques to bring your presentation skills to the next level. Timestamps: 00:00:18 - 00:00:32\n",
      "Speaker B: This audio download is the audio version of the blog article entitled help I have a monotonous voice remember that priest in the famous sitcom Father Ted who had an incredibly dull voice? We met him during a tense scene in the Christmas special where the priests are trapped in the women's lingerie department of a supermarket. I have an awful, dreary, monotonous voice. God help me if you haven't seen it. Search for Father Ted boring voice on YouTube during Speechcamp's courses, I always ask the audience, raise your hand if you feel you have a boring voice like that priest in fathered head. Invariably the majority of people put their hand up. It always amazes me how many people feel they have a monotonous voice. In truth, willfully boring voices like that poor priest are rare and even then they can easily be fixed. Yes, thats right. Every so called boring voice has a simple, straightforward root cause and cure. Its important to understand that so called monotone voices are merely symptoms of something deeper, something that can be sorted first with awareness and then with an elementary technique I will share with you later. At Speechcamp we teach you that public speaking is not about perfection, its about connection. Specifically, we talk about connecting with three things. Number one, your material. Number two, your audience. And number three, yourself. When I talk of connection, of course I mean an emotional connection. In short, people who exhibit a so called monotone voice are quite simply emotionally disconnected from themselves and subsequently their material and audience. There could be many reasons for this. They don't care about what they're talking about. They hate public speaking, they are shy and so on. What is the solution? Whatever your reason for feeling a little disconnected, you have to start feeling something positive, something that gives you energy. In other words, you have to get in touch with the feeling of passion. Most people believe that the reason they have a monotone voice is that there is something physically wrong with them. They may have trouble varying the pitch in their voice. They may have been told or tell themselves that their voice doesnt have a range. But you know what? You do not have to be pavarotti to have passion. Unless you are in a coma or otherwise heavily sedated, you can always feel passionate. Sounds easy, doesnt it? Most people dont give themselves permission to feel passionate or to feel anything at all. I will admit it can be tough to feel positive when you are in the grip of fear, especially the fear of public speaking. There are many wonderful ways to overcome your fear of public speaking. But since we are talking about monotonous voices, lets focus on a technique that can introduce some passion directly into the voice without too much effort. And you dont even need to feel strongly about your material. It can even help you to overcome your fears because it gives you something to focus on while you are speaking. The technique is called keyword emphasis. Listen to the following Mary had a little lamb, one sentence right, one meaning right wrong. Let's try speaking the sentence while emphasizing different words. Mary had a little lamb. Mary had a little lamb. Mary had a little lamb. Mary had a little lamb. I want you to speak this sentence four times, emphasising the different words, just as I did. Have you noticed how you can change the meaning of the sentence by emphasising just one word? For example, Mary had a little lamb, implying that she doesnt have one anymore. By the way, to emphasize a word. Imagine you are speaking it to a young child because you want to teach her how to pronounce it properly. Really sound out the word. Savour it like you are tasting it. You can also emphasize groups of words or phrases. If you do, make sure to sound out each word individually. There are many advantages to speaking with keyword emphasis. Number one, it slows your pace down. Number two, you will tend to speak your keywords and phrases with more volume and projection. Number three, it sounds more passionate. You do not need to have any pitch range in your voice to use keyword emphasis, and you will always sound more passionate. If you find the technique is not helping you to break through enough, exaggerate your keyword emphasis until it sounds really lively. Record your voice as you practice, listen back and adjust accordingly. I will finish by emphasizing this point once again. A speaker with a so called monotonous voice is simply emotionally disconnected from themselves. The ultimate cure to the monotonous voice lies in giving yourself permission to feel more passionate. Keyword emphasis is a step in the right direction, but you've got to start feeling more. Even that priest in father Ted could captivate an audience if he only felt strong, positive emotions as he spoke. People dont respond to pitch, they respond to passion. As Maya Angelou once said, people will forget what you said, people will forget what you did, but people will never forget how you made them feel. It is extremely difficult to make people feel anything. If you dont feel anything. Please give yourself permission to speak with passion. There is no greater gift to yourself and the world. Timestamps: 00:00:37 - 00:06:48\n",
      "Speaker A: This download was provided by Speechcamp, Ireland's top quality presentation skills training company. Visit us at www. Dot speechcamp dot ie. Timestamps: 00:06:55 - 00:07:08\n"
     ]
    }
   ],
   "source": [
    "audio_url = \"./sound/audio.mp3\"\n",
    "config = aai.TranscriptionConfig(\n",
    "  speaker_labels=True,\n",
    ")\n",
    "\n",
    "transcript = aai.Transcriber().transcribe(audio_url, config)\n",
    "\n",
    "for utterance in transcript.utterances:\n",
    "  con_sec, con_min, con_hour = convertMillis(int(utterance.start))\n",
    "  con_sec_end, con_min_end, con_hour_end = convertMillis(int(utterance.end))\n",
    "  print(f\"Speaker {utterance.speaker}: {utterance.text} Timestamps: {con_hour:02d}:{con_min:02d}:{con_sec:02d} - {con_hour_end:02d}:{con_min_end:02d}:{con_sec_end:02d}\")"
   ]
  },
  {
   "cell_type": "code",
   "execution_count": 32,
   "metadata": {},
   "outputs": [
    {
     "name": "stdout",
     "output_type": "stream",
     "text": [
      "00:00:01 - 00:00:16: Hello, Milk, my dear, dear friend. Yeah, we're partying now\n",
      "00:00:16 - 00:01:43: Sean Evans welcomes Jamie Dornan to talk about hot ones\n",
      "00:01:43 - 00:03:48: How big a role does location play in the first two seasons of tourist\n",
      "00:03:48 - 00:05:34: Kenneth Branagh sometimes secretly records rehearsals and then uses them in final film\n",
      "00:05:35 - 00:08:45: What's the most soul crushing memory you have of auditioning during pilot week\n",
      "00:08:45 - 00:11:18: Jamie recalls working as a barman in London when he was 20\n",
      "00:11:18 - 00:13:38: Is there an underappreciated role on a movie set\n",
      "00:13:40 - 00:15:41: What's the nastiest thing you've experienced in a rugby scrum\n",
      "00:15:42 - 00:17:47: What's the key to a perfect pasta? Puttanesca\n",
      "00:17:47 - 00:19:45: Which of your films or tv projects would earn you a free pint in Ireland\n",
      "00:19:45 - 00:21:55: Jamie Dornan says he had many failed auditions before landing role\n",
      "00:21:59 - 00:22:27: The season 23 hot ones ten pack is available now on Heatness. com\n"
     ]
    }
   ],
   "source": [
    "audio_url = \"uploads/tmp1.mp3\"\n",
    "\n",
    "config = aai.TranscriptionConfig(auto_chapters=True)\n",
    "\n",
    "transcript = aai.Transcriber().transcribe(audio_url, config)\n",
    "\n",
    "for chapter in transcript.chapters:\n",
    "  con_sec, con_min, con_hour = convertMillis(int(chapter.start))\n",
    "  con_sec_end, con_min_end, con_hour_end = convertMillis(int(chapter.end))\n",
    "  print(f\"{con_hour:02d}:{con_min:02d}:{con_sec:02d} - {con_hour_end:02d}:{con_min_end:02d}:{con_sec_end:02d}: {chapter.headline}\")"
   ]
  }
 ],
 "metadata": {
  "kernelspec": {
   "display_name": "Python 3",
   "language": "python",
   "name": "python3"
  },
  "language_info": {
   "codemirror_mode": {
    "name": "ipython",
    "version": 3
   },
   "file_extension": ".py",
   "mimetype": "text/x-python",
   "name": "python",
   "nbconvert_exporter": "python",
   "pygments_lexer": "ipython3",
   "version": "3.10.5"
  }
 },
 "nbformat": 4,
 "nbformat_minor": 2
}
